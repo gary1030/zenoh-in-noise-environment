{
 "cells": [
  {
   "cell_type": "code",
   "execution_count": 8,
   "metadata": {},
   "outputs": [],
   "source": [
    "import pandas as pd\n",
    "import math"
   ]
  },
  {
   "attachments": {},
   "cell_type": "markdown",
   "metadata": {},
   "source": [
    "### Define DataFrame combination function"
   ]
  },
  {
   "cell_type": "code",
   "execution_count": 20,
   "metadata": {},
   "outputs": [],
   "source": [
    "# calculate seconds for sent\n",
    "def get_processed_df(received_data_path: str, sent_data_path: str) -> pd.DataFrame:\n",
    "    \"\"\"\n",
    "    Get processed dataframe for a run.  \n",
    "    It will merge sent and received json files and calculate seconds for sent packets.\n",
    "    \"\"\"\n",
    "    sent_df = pd.read_json(sent_data_path)\n",
    "    received_df = pd.read_json(received_data_path)\n",
    "    \n",
    "    sent_df = pd.json_normalize(sent_df['sent_packet_list'])\n",
    "    received_df = pd.json_normalize(received_df['received_packet_list'])\n",
    "\n",
    "    # eliminate row with packet_id = -1\n",
    "    sent_df = sent_df[sent_df['packet_id'] != -1]\n",
    "    received_df = received_df[received_df['packet_id'] != -1]\n",
    "    sent_df['second'] = (sent_df['sent_time'] - sent_df['sent_time'].iloc[0]) / 1000000\n",
    "    sent_df['second'] = sent_df['second'].apply(lambda x: math.floor(x))\n",
    "    sent_df['packet_id'] = sent_df['packet_id'].astype(int)\n",
    "    received_df['packet_id'] = received_df['packet_id'].astype(int)\n",
    "    sent_received = pd.merge(sent_df, received_df, how='left', left_on='packet_id', right_on='packet_id', validate='one_to_one')\n",
    "    sent_received['delay_in_microseconds'] = sent_received['received_time'] - sent_received['sent_time']\n",
    "    return sent_received"
   ]
  },
  {
   "attachments": {},
   "cell_type": "markdown",
   "metadata": {},
   "source": [
    "### Define Get Status Value function"
   ]
  },
  {
   "cell_type": "code",
   "execution_count": 25,
   "metadata": {},
   "outputs": [],
   "source": [
    "def get_stats_values(df: pd.DataFrame) -> None:\n",
    "    total_sent_packets = df.shape[0]\n",
    "    total_received_packets = df[df['received_time'].notnull()].shape[0]\n",
    "    print(f\"Total sent packets: {total_sent_packets}\")\n",
    "    print(f\"Total received packets: {total_received_packets}\")\n",
    "    print(f\"Total lost packets: {total_sent_packets - total_received_packets}\")\n",
    "    print(f\"Total lost packets percentage: {(total_sent_packets - total_received_packets) / total_sent_packets * 100}%\")\n",
    "    print(f\"Average delay: {df['delay_in_microseconds'].mean()} microseconds\")"
   ]
  },
  {
   "attachments": {},
   "cell_type": "markdown",
   "metadata": {},
   "source": [
    "### Lab1"
   ]
  },
  {
   "cell_type": "code",
   "execution_count": 30,
   "metadata": {},
   "outputs": [
    {
     "name": "stdout",
     "output_type": "stream",
     "text": [
      "For 10KB and 0% drop rate:\n",
      "Total sent packets: 15000\n",
      "Total received packets: 15000\n",
      "Total lost packets: 0\n",
      "Total lost packets percentage: 0.0%\n",
      "Average delay: 3007.8596 microseconds\n",
      "--------------------\n",
      "For 10KB and 5% drop rate:\n",
      "Total sent packets: 15000\n",
      "Total received packets: 14972\n",
      "Total lost packets: 28\n",
      "Total lost packets percentage: 0.18666666666666668%\n",
      "Average delay: 24802.85325941758 microseconds\n",
      "--------------------\n",
      "For 10KB and 10% drop rate:\n",
      "Total sent packets: 15000\n",
      "Total received packets: 10089\n",
      "Total lost packets: 4911\n",
      "Total lost packets percentage: 32.74%\n",
      "Average delay: 740673.4192685103 microseconds\n",
      "--------------------\n",
      "For 10KB and 15% drop rate:\n",
      "Total sent packets: 15000\n",
      "Total received packets: 3155\n",
      "Total lost packets: 11845\n",
      "Total lost packets percentage: 78.96666666666667%\n",
      "Average delay: 1916204.2469096673 microseconds\n",
      "--------------------\n",
      "For 10KB and 25% drop rate:\n",
      "Total sent packets: 15000\n",
      "Total received packets: 750\n",
      "Total lost packets: 14250\n",
      "Total lost packets percentage: 95.0%\n",
      "Average delay: 9952741.577333333 microseconds\n",
      "--------------------\n",
      "For 10KB and 50% drop rate:\n",
      "Total sent packets: 15000\n",
      "Total received packets: 76\n",
      "Total lost packets: 14924\n",
      "Total lost packets percentage: 99.49333333333334%\n",
      "Average delay: 9164452.986842105 microseconds\n",
      "--------------------\n"
     ]
    }
   ],
   "source": [
    "kb_list = [10]\n",
    "drop_rate_list = [0, 5, 10, 15, 25, 50]\n",
    "\n",
    "for kb in kb_list:\n",
    "    for drop_rate in drop_rate_list:\n",
    "        print(f\"For {kb}KB and {drop_rate}% drop rate:\")\n",
    "        df = get_processed_df(f\"received-data/lab1/{kb}_drop_{drop_rate}.json\", f\"sent-data/lab1/{kb}_drop_{drop_rate}.json\")\n",
    "        get_stats_values(df)\n",
    "        print(\"--------------------\")"
   ]
  },
  {
   "cell_type": "code",
   "execution_count": 26,
   "metadata": {},
   "outputs": [
    {
     "data": {
      "text/html": [
       "<div>\n",
       "<style scoped>\n",
       "    .dataframe tbody tr th:only-of-type {\n",
       "        vertical-align: middle;\n",
       "    }\n",
       "\n",
       "    .dataframe tbody tr th {\n",
       "        vertical-align: top;\n",
       "    }\n",
       "\n",
       "    .dataframe thead th {\n",
       "        text-align: right;\n",
       "    }\n",
       "</style>\n",
       "<table border=\"1\" class=\"dataframe\">\n",
       "  <thead>\n",
       "    <tr style=\"text-align: right;\">\n",
       "      <th></th>\n",
       "      <th>packet_id</th>\n",
       "      <th>sent_time</th>\n",
       "      <th>second</th>\n",
       "      <th>received_time</th>\n",
       "      <th>delay_in_microseconds</th>\n",
       "    </tr>\n",
       "  </thead>\n",
       "  <tbody>\n",
       "    <tr>\n",
       "      <th>0</th>\n",
       "      <td>0</td>\n",
       "      <td>1671713231543505</td>\n",
       "      <td>0</td>\n",
       "      <td>1671713231559453</td>\n",
       "      <td>15948</td>\n",
       "    </tr>\n",
       "    <tr>\n",
       "      <th>1</th>\n",
       "      <td>1</td>\n",
       "      <td>1671713231553781</td>\n",
       "      <td>0</td>\n",
       "      <td>1671713231559697</td>\n",
       "      <td>5916</td>\n",
       "    </tr>\n",
       "    <tr>\n",
       "      <th>2</th>\n",
       "      <td>2</td>\n",
       "      <td>1671713231564585</td>\n",
       "      <td>0</td>\n",
       "      <td>1671713231567345</td>\n",
       "      <td>2760</td>\n",
       "    </tr>\n",
       "    <tr>\n",
       "      <th>3</th>\n",
       "      <td>3</td>\n",
       "      <td>1671713231577960</td>\n",
       "      <td>0</td>\n",
       "      <td>1671713231581112</td>\n",
       "      <td>3152</td>\n",
       "    </tr>\n",
       "    <tr>\n",
       "      <th>4</th>\n",
       "      <td>4</td>\n",
       "      <td>1671713231589040</td>\n",
       "      <td>0</td>\n",
       "      <td>1671713231592058</td>\n",
       "      <td>3018</td>\n",
       "    </tr>\n",
       "    <tr>\n",
       "      <th>...</th>\n",
       "      <td>...</td>\n",
       "      <td>...</td>\n",
       "      <td>...</td>\n",
       "      <td>...</td>\n",
       "      <td>...</td>\n",
       "    </tr>\n",
       "    <tr>\n",
       "      <th>14995</th>\n",
       "      <td>14995</td>\n",
       "      <td>1671713399401714</td>\n",
       "      <td>167</td>\n",
       "      <td>1671713399404289</td>\n",
       "      <td>2575</td>\n",
       "    </tr>\n",
       "    <tr>\n",
       "      <th>14996</th>\n",
       "      <td>14996</td>\n",
       "      <td>1671713399412680</td>\n",
       "      <td>167</td>\n",
       "      <td>1671713399415162</td>\n",
       "      <td>2482</td>\n",
       "    </tr>\n",
       "    <tr>\n",
       "      <th>14997</th>\n",
       "      <td>14997</td>\n",
       "      <td>1671713399423678</td>\n",
       "      <td>167</td>\n",
       "      <td>1671713399426047</td>\n",
       "      <td>2369</td>\n",
       "    </tr>\n",
       "    <tr>\n",
       "      <th>14998</th>\n",
       "      <td>14998</td>\n",
       "      <td>1671713399443466</td>\n",
       "      <td>167</td>\n",
       "      <td>1671713399446392</td>\n",
       "      <td>2926</td>\n",
       "    </tr>\n",
       "    <tr>\n",
       "      <th>14999</th>\n",
       "      <td>14999</td>\n",
       "      <td>1671713399454508</td>\n",
       "      <td>167</td>\n",
       "      <td>1671713399456995</td>\n",
       "      <td>2487</td>\n",
       "    </tr>\n",
       "  </tbody>\n",
       "</table>\n",
       "<p>15000 rows × 5 columns</p>\n",
       "</div>"
      ],
      "text/plain": [
       "       packet_id         sent_time  second     received_time  \\\n",
       "0              0  1671713231543505       0  1671713231559453   \n",
       "1              1  1671713231553781       0  1671713231559697   \n",
       "2              2  1671713231564585       0  1671713231567345   \n",
       "3              3  1671713231577960       0  1671713231581112   \n",
       "4              4  1671713231589040       0  1671713231592058   \n",
       "...          ...               ...     ...               ...   \n",
       "14995      14995  1671713399401714     167  1671713399404289   \n",
       "14996      14996  1671713399412680     167  1671713399415162   \n",
       "14997      14997  1671713399423678     167  1671713399426047   \n",
       "14998      14998  1671713399443466     167  1671713399446392   \n",
       "14999      14999  1671713399454508     167  1671713399456995   \n",
       "\n",
       "       delay_in_microseconds  \n",
       "0                      15948  \n",
       "1                       5916  \n",
       "2                       2760  \n",
       "3                       3152  \n",
       "4                       3018  \n",
       "...                      ...  \n",
       "14995                   2575  \n",
       "14996                   2482  \n",
       "14997                   2369  \n",
       "14998                   2926  \n",
       "14999                   2487  \n",
       "\n",
       "[15000 rows x 5 columns]"
      ]
     },
     "execution_count": 26,
     "metadata": {},
     "output_type": "execute_result"
    }
   ],
   "source": [
    "first_data = get_processed_df(\"./received-data/lab1/10_drop_0.json\", \"./sent-data/lab1/10_drop_0.json\")\n",
    "first_data"
   ]
  },
  {
   "cell_type": "code",
   "execution_count": 27,
   "metadata": {},
   "outputs": [
    {
     "name": "stdout",
     "output_type": "stream",
     "text": [
      "Total sent packets: 15000\n",
      "Total received packets: 15000\n",
      "Total lost packets: 0\n",
      "Total lost packets percentage: 0.0%\n",
      "Average delay: 3007.8596 microseconds\n"
     ]
    }
   ],
   "source": [
    "get_stats_values(first_data)"
   ]
  },
  {
   "cell_type": "code",
   "execution_count": null,
   "metadata": {},
   "outputs": [],
   "source": []
  }
 ],
 "metadata": {
  "kernelspec": {
   "display_name": "python39",
   "language": "python",
   "name": "python3"
  },
  "language_info": {
   "codemirror_mode": {
    "name": "ipython",
    "version": 3
   },
   "file_extension": ".py",
   "mimetype": "text/x-python",
   "name": "python",
   "nbconvert_exporter": "python",
   "pygments_lexer": "ipython3",
   "version": "3.9.12"
  },
  "orig_nbformat": 4,
  "vscode": {
   "interpreter": {
    "hash": "f1f0ca08df83ebe1228368c35aef2dd5bdef6efbf7330e5bb8a931893862d7fc"
   }
  }
 },
 "nbformat": 4,
 "nbformat_minor": 2
}
