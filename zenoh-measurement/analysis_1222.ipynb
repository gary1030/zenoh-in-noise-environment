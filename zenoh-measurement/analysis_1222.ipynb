{
 "cells": [
  {
   "cell_type": "code",
   "execution_count": 8,
   "metadata": {},
   "outputs": [],
   "source": [
    "import pandas as pd\n",
    "import math"
   ]
  },
  {
   "attachments": {},
   "cell_type": "markdown",
   "metadata": {},
   "source": [
    "### Define DataFrame combination function"
   ]
  },
  {
   "cell_type": "code",
   "execution_count": 20,
   "metadata": {},
   "outputs": [],
   "source": [
    "# calculate seconds for sent\n",
    "def get_processed_df(received_data_path: str, sent_data_path: str) -> pd.DataFrame:\n",
    "    \"\"\"\n",
    "    Get processed dataframe for a run.  \n",
    "    It will merge sent and received json files and calculate seconds for sent packets.\n",
    "    \"\"\"\n",
    "    sent_df = pd.read_json(sent_data_path)\n",
    "    received_df = pd.read_json(received_data_path)\n",
    "    \n",
    "    sent_df = pd.json_normalize(sent_df['sent_packet_list'])\n",
    "    received_df = pd.json_normalize(received_df['received_packet_list'])\n",
    "\n",
    "    # eliminate row with packet_id = -1\n",
    "    sent_df = sent_df[sent_df['packet_id'] != -1]\n",
    "    received_df = received_df[received_df['packet_id'] != -1]\n",
    "    sent_df['second'] = (sent_df['sent_time'] - sent_df['sent_time'].iloc[0]) / 1000000\n",
    "    sent_df['second'] = sent_df['second'].apply(lambda x: math.floor(x))\n",
    "    sent_df['packet_id'] = sent_df['packet_id'].astype(int)\n",
    "    received_df['packet_id'] = received_df['packet_id'].astype(int)\n",
    "    sent_received = pd.merge(sent_df, received_df, how='left', left_on='packet_id', right_on='packet_id', validate='one_to_one')\n",
    "    sent_received['delay_in_microseconds'] = sent_received['received_time'] - sent_received['sent_time']\n",
    "    return sent_received"
   ]
  },
  {
   "attachments": {},
   "cell_type": "markdown",
   "metadata": {},
   "source": [
    "### Define Get Status Value function"
   ]
  },
  {
   "cell_type": "code",
   "execution_count": 25,
   "metadata": {},
   "outputs": [],
   "source": [
    "def get_stats_values(df: pd.DataFrame) -> None:\n",
    "    total_sent_packets = df.shape[0]\n",
    "    total_received_packets = df[df['received_time'].notnull()].shape[0]\n",
    "    print(f\"Total sent packets: {total_sent_packets}\")\n",
    "    print(f\"Total received packets: {total_received_packets}\")\n",
    "    print(f\"Total lost packets: {total_sent_packets - total_received_packets}\")\n",
    "    print(f\"Total lost packets percentage: {(total_sent_packets - total_received_packets) / total_sent_packets * 100}%\")\n",
    "    print(f\"Average delay: {df['delay_in_microseconds'].mean()} microseconds\")"
   ]
  },
  {
   "attachments": {},
   "cell_type": "markdown",
   "metadata": {},
   "source": [
    "### Lab1"
   ]
  },
  {
   "cell_type": "code",
   "execution_count": 35,
   "metadata": {},
   "outputs": [
    {
     "name": "stdout",
     "output_type": "stream",
     "text": [
      "For 10KB and 0% drop rate:\n",
      "Total sent packets: 15000\n",
      "Total received packets: 15000\n",
      "Total lost packets: 0\n",
      "Total lost packets percentage: 0.0%\n",
      "Average delay: 3007.8596 microseconds\n",
      "--------------------\n",
      "For 10KB and 5% drop rate:\n",
      "Total sent packets: 15000\n",
      "Total received packets: 14972\n",
      "Total lost packets: 28\n",
      "Total lost packets percentage: 0.18666666666666668%\n",
      "Average delay: 24802.85325941758 microseconds\n",
      "--------------------\n",
      "For 10KB and 10% drop rate:\n",
      "Total sent packets: 15000\n",
      "Total received packets: 10089\n",
      "Total lost packets: 4911\n",
      "Total lost packets percentage: 32.74%\n",
      "Average delay: 740673.4192685103 microseconds\n",
      "--------------------\n",
      "For 10KB and 15% drop rate:\n",
      "Total sent packets: 15000\n",
      "Total received packets: 3155\n",
      "Total lost packets: 11845\n",
      "Total lost packets percentage: 78.96666666666667%\n",
      "Average delay: 1916204.2469096673 microseconds\n",
      "--------------------\n",
      "For 10KB and 25% drop rate:\n",
      "Total sent packets: 15000\n",
      "Total received packets: 750\n",
      "Total lost packets: 14250\n",
      "Total lost packets percentage: 95.0%\n",
      "Average delay: 9952741.577333333 microseconds\n",
      "--------------------\n",
      "For 100KB and 0% drop rate:\n",
      "Total sent packets: 15000\n",
      "Total received packets: 14999\n",
      "Total lost packets: 1\n",
      "Total lost packets percentage: 0.006666666666666667%\n",
      "Average delay: 6896.533502233482 microseconds\n",
      "--------------------\n",
      "For 100KB and 5% drop rate:\n",
      "Total sent packets: 15000\n",
      "Total received packets: 9119\n",
      "Total lost packets: 5881\n",
      "Total lost packets percentage: 39.20666666666667%\n",
      "Average delay: 205122.53481741418 microseconds\n",
      "--------------------\n",
      "For 100KB and 10% drop rate:\n",
      "Total sent packets: 15000\n",
      "Total received packets: 1752\n",
      "Total lost packets: 13248\n",
      "Total lost packets percentage: 88.32%\n",
      "Average delay: 758980.5085616439 microseconds\n",
      "--------------------\n",
      "For 100KB and 15% drop rate:\n",
      "Total sent packets: 15000\n",
      "Total received packets: 545\n",
      "Total lost packets: 14455\n",
      "Total lost packets percentage: 96.36666666666667%\n",
      "Average delay: 3585027.6183486236 microseconds\n",
      "--------------------\n",
      "For 100KB and 25% drop rate:\n",
      "Total sent packets: 15000\n",
      "Total received packets: 128\n",
      "Total lost packets: 14872\n",
      "Total lost packets percentage: 99.14666666666668%\n",
      "Average delay: 8742260.1015625 microseconds\n",
      "--------------------\n",
      "For 500KB and 0% drop rate:\n",
      "Total sent packets: 15000\n",
      "Total received packets: 15000\n",
      "Total lost packets: 0\n",
      "Total lost packets percentage: 0.0%\n",
      "Average delay: 15057.329466666666 microseconds\n",
      "--------------------\n",
      "For 500KB and 5% drop rate:\n",
      "Total sent packets: 15000\n",
      "Total received packets: 2918\n",
      "Total lost packets: 12082\n",
      "Total lost packets percentage: 80.54666666666667%\n",
      "Average delay: 364353.2834132968 microseconds\n",
      "--------------------\n",
      "For 500KB and 10% drop rate:\n",
      "Total sent packets: 5000\n",
      "Total received packets: 602\n",
      "Total lost packets: 4398\n",
      "Total lost packets percentage: 87.96000000000001%\n",
      "Average delay: 1863191.465116279 microseconds\n",
      "--------------------\n",
      "For 500KB and 15% drop rate:\n",
      "Total sent packets: 5000\n",
      "Total received packets: 150\n",
      "Total lost packets: 4850\n",
      "Total lost packets percentage: 97.0%\n",
      "Average delay: 6002216.046666667 microseconds\n",
      "--------------------\n"
     ]
    }
   ],
   "source": [
    "kb_list = [10, 100, 500]\n",
    "drop_rate_list = [0, 5, 10, 15, 25]\n",
    "\n",
    "for kb in kb_list:\n",
    "    for drop_rate in drop_rate_list:\n",
    "        if kb == 500 and drop_rate == 25:\n",
    "            continue\n",
    "        print(f\"For {kb}KB and {drop_rate}% drop rate:\")\n",
    "        df = get_processed_df(f\"received-data/lab1/{kb}_drop_{drop_rate}.json\", f\"sent-data/lab1/{kb}_drop_{drop_rate}.json\")\n",
    "        get_stats_values(df)\n",
    "        print(\"--------------------\")"
   ]
  },
  {
   "cell_type": "code",
   "execution_count": 27,
   "metadata": {},
   "outputs": [
    {
     "name": "stdout",
     "output_type": "stream",
     "text": [
      "Total sent packets: 15000\n",
      "Total received packets: 15000\n",
      "Total lost packets: 0\n",
      "Total lost packets percentage: 0.0%\n",
      "Average delay: 3007.8596 microseconds\n"
     ]
    }
   ],
   "source": [
    "get_stats_values(first_data)"
   ]
  },
  {
   "cell_type": "markdown",
   "metadata": {},
   "source": [
    "#### plot relationship between drop rate and delay"
   ]
  },
  {
   "cell_type": "code",
   "execution_count": 36,
   "metadata": {},
   "outputs": [],
   "source": [
    "import matplotlib.pyplot as plt"
   ]
  },
  {
   "cell_type": "code",
   "execution_count": 43,
   "metadata": {},
   "outputs": [
    {
     "data": {
      "image/png": "[encoded data removed]",
      "text/plain": [
       "<Figure size 432x288 with 1 Axes>"
      ]
     },
     "metadata": {
      "needs_background": "light"
     },
     "output_type": "display_data"
    }
   ],
   "source": [
    "\n",
    "kb_list = [10, 100, 500]\n",
    "drop_rate_list = [0, 5, 10, 15, 25]\n",
    "\n",
    "# every key is a drop rate, and the value is also a dict with key is kb and value is average delay in microseconds\n",
    "drop_rate_kb_dict = {}\n",
    "for drop_rate in drop_rate_list:\n",
    "    drop_rate_kb_dict[drop_rate] = {}\n",
    "    for kb in kb_list:\n",
    "        if kb == 500 and drop_rate == 25:\n",
    "            continue\n",
    "        df = get_processed_df(f\"received-data/lab1/{kb}_drop_{drop_rate}.json\", f\"sent-data/lab1/{kb}_drop_{drop_rate}.json\")\n",
    "        drop_rate_kb_dict[drop_rate][kb] = df['delay_in_microseconds'].mean() / 1000\n",
    "\n",
    "# plot\n",
    "for kb in kb_list:\n",
    "    x = []\n",
    "    y = []\n",
    "    for drop_rate in drop_rate_list:\n",
    "        if kb == 500 and drop_rate == 25:\n",
    "            continue\n",
    "        x.append(drop_rate)\n",
    "        y.append(drop_rate_kb_dict[drop_rate][kb])\n",
    "    plt.plot(x, y, label=f\"{kb}KB\")\n",
    "    plt.xlabel(\"Drop rate (%)\")\n",
    "    plt.ylabel(\"Average delay (milliseconds)\")\n",
    "    # legend\n",
    "    plt.legend()"
   ]
  },
  {
   "cell_type": "code",
   "execution_count": null,
   "metadata": {},
   "outputs": [],
   "source": []
  }
 ],
 "metadata": {
  "kernelspec": {
   "display_name": "python39",
   "language": "python",
   "name": "python3"
  },
  "language_info": {
   "codemirror_mode": {
    "name": "ipython",
    "version": 3
   },
   "file_extension": ".py",
   "mimetype": "text/x-python",
   "name": "python",
   "nbconvert_exporter": "python",
   "pygments_lexer": "ipython3",
   "version": "3.9.12"
  },
  "orig_nbformat": 4,
  "vscode": {
   "interpreter": {
    "hash": "f1f0ca08df83ebe1228368c35aef2dd5bdef6efbf7330e5bb8a931893862d7fc"
   }
  }
 },
 "nbformat": 4,
 "nbformat_minor": 2
}
