{
 "cells": [
  {
   "cell_type": "code",
   "execution_count": 1,
   "metadata": {},
   "outputs": [],
   "source": [
    "import pandas as pd\n",
    "import math"
   ]
  },
  {
   "attachments": {},
   "cell_type": "markdown",
   "metadata": {},
   "source": [
    "### Define DataFrame combination function"
   ]
  },
  {
   "cell_type": "code",
   "execution_count": 2,
   "metadata": {},
   "outputs": [],
   "source": [
    "# calculate seconds for sent\n",
    "def get_processed_df(received_data_path: str, sent_data_path: str) -> pd.DataFrame:\n",
    "    \"\"\"\n",
    "    Get processed dataframe for a run.  \n",
    "    It will merge sent and received json files and calculate seconds for sent packets.\n",
    "    \"\"\"\n",
    "    sent_df = pd.read_json(sent_data_path)\n",
    "    received_df = pd.read_json(received_data_path)\n",
    "    \n",
    "    sent_df = pd.json_normalize(sent_df['sent_packet_list'])\n",
    "    received_df = pd.json_normalize(received_df['received_packet_list'])\n",
    "\n",
    "    # eliminate row with packet_id = -1\n",
    "    sent_df = sent_df[sent_df['packet_id'] != -1]\n",
    "    received_df = received_df[received_df['packet_id'] != -1]\n",
    "    sent_df['second'] = (sent_df['sent_time'] - sent_df['sent_time'].iloc[0]) / 1000000\n",
    "    sent_df['second'] = sent_df['second'].apply(lambda x: math.floor(x))\n",
    "    sent_df['packet_id'] = sent_df['packet_id'].astype(int)\n",
    "    received_df['packet_id'] = received_df['packet_id'].astype(int)\n",
    "    sent_received = pd.merge(sent_df, received_df, how='left', left_on='packet_id', right_on='packet_id', validate='one_to_one')\n",
    "    sent_received['delay_in_microseconds'] = sent_received['received_time'] - sent_received['sent_time']\n",
    "    return sent_received"
   ]
  },
  {
   "attachments": {},
   "cell_type": "markdown",
   "metadata": {},
   "source": [
    "### Define Get Status Value function"
   ]
  },
  {
   "cell_type": "code",
   "execution_count": 3,
   "metadata": {},
   "outputs": [],
   "source": [
    "def get_stats_values(df: pd.DataFrame) -> None:\n",
    "    total_sent_packets = df.shape[0]\n",
    "    total_received_packets = df[df['received_time'].notnull()].shape[0]\n",
    "    print(f\"Total sent packets: {total_sent_packets}\")\n",
    "    print(f\"Total received packets: {total_received_packets}\")\n",
    "    print(f\"Total lost packets: {total_sent_packets - total_received_packets}\")\n",
    "    print(f\"Total lost packets percentage: {(total_sent_packets - total_received_packets) / total_sent_packets * 100}%\")\n",
    "    print(f\"Average delay: {df['delay_in_microseconds'].mean()} microseconds\")"
   ]
  },
  {
   "attachments": {},
   "cell_type": "markdown",
   "metadata": {},
   "source": [
    "### Lab1"
   ]
  },
  {
   "cell_type": "code",
   "execution_count": 35,
   "metadata": {},
   "outputs": [
    {
     "name": "stdout",
     "output_type": "stream",
     "text": [
      "For 10KB and 0% drop rate:\n",
      "Total sent packets: 15000\n",
      "Total received packets: 15000\n",
      "Total lost packets: 0\n",
      "Total lost packets percentage: 0.0%\n",
      "Average delay: 3007.8596 microseconds\n",
      "--------------------\n",
      "For 10KB and 5% drop rate:\n",
      "Total sent packets: 15000\n",
      "Total received packets: 14972\n",
      "Total lost packets: 28\n",
      "Total lost packets percentage: 0.18666666666666668%\n",
      "Average delay: 24802.85325941758 microseconds\n",
      "--------------------\n",
      "For 10KB and 10% drop rate:\n",
      "Total sent packets: 15000\n",
      "Total received packets: 10089\n",
      "Total lost packets: 4911\n",
      "Total lost packets percentage: 32.74%\n",
      "Average delay: 740673.4192685103 microseconds\n",
      "--------------------\n",
      "For 10KB and 15% drop rate:\n",
      "Total sent packets: 15000\n",
      "Total received packets: 3155\n",
      "Total lost packets: 11845\n",
      "Total lost packets percentage: 78.96666666666667%\n",
      "Average delay: 1916204.2469096673 microseconds\n",
      "--------------------\n",
      "For 10KB and 25% drop rate:\n",
      "Total sent packets: 15000\n",
      "Total received packets: 750\n",
      "Total lost packets: 14250\n",
      "Total lost packets percentage: 95.0%\n",
      "Average delay: 9952741.577333333 microseconds\n",
      "--------------------\n",
      "For 100KB and 0% drop rate:\n",
      "Total sent packets: 15000\n",
      "Total received packets: 14999\n",
      "Total lost packets: 1\n",
      "Total lost packets percentage: 0.006666666666666667%\n",
      "Average delay: 6896.533502233482 microseconds\n",
      "--------------------\n",
      "For 100KB and 5% drop rate:\n",
      "Total sent packets: 15000\n",
      "Total received packets: 9119\n",
      "Total lost packets: 5881\n",
      "Total lost packets percentage: 39.20666666666667%\n",
      "Average delay: 205122.53481741418 microseconds\n",
      "--------------------\n",
      "For 100KB and 10% drop rate:\n",
      "Total sent packets: 15000\n",
      "Total received packets: 1752\n",
      "Total lost packets: 13248\n",
      "Total lost packets percentage: 88.32%\n",
      "Average delay: 758980.5085616439 microseconds\n",
      "--------------------\n",
      "For 100KB and 15% drop rate:\n",
      "Total sent packets: 15000\n",
      "Total received packets: 545\n",
      "Total lost packets: 14455\n",
      "Total lost packets percentage: 96.36666666666667%\n",
      "Average delay: 3585027.6183486236 microseconds\n",
      "--------------------\n",
      "For 100KB and 25% drop rate:\n",
      "Total sent packets: 15000\n",
      "Total received packets: 128\n",
      "Total lost packets: 14872\n",
      "Total lost packets percentage: 99.14666666666668%\n",
      "Average delay: 8742260.1015625 microseconds\n",
      "--------------------\n",
      "For 500KB and 0% drop rate:\n",
      "Total sent packets: 15000\n",
      "Total received packets: 15000\n",
      "Total lost packets: 0\n",
      "Total lost packets percentage: 0.0%\n",
      "Average delay: 15057.329466666666 microseconds\n",
      "--------------------\n",
      "For 500KB and 5% drop rate:\n",
      "Total sent packets: 15000\n",
      "Total received packets: 2918\n",
      "Total lost packets: 12082\n",
      "Total lost packets percentage: 80.54666666666667%\n",
      "Average delay: 364353.2834132968 microseconds\n",
      "--------------------\n",
      "For 500KB and 10% drop rate:\n",
      "Total sent packets: 5000\n",
      "Total received packets: 602\n",
      "Total lost packets: 4398\n",
      "Total lost packets percentage: 87.96000000000001%\n",
      "Average delay: 1863191.465116279 microseconds\n",
      "--------------------\n",
      "For 500KB and 15% drop rate:\n",
      "Total sent packets: 5000\n",
      "Total received packets: 150\n",
      "Total lost packets: 4850\n",
      "Total lost packets percentage: 97.0%\n",
      "Average delay: 6002216.046666667 microseconds\n",
      "--------------------\n"
     ]
    }
   ],
   "source": [
    "kb_list = [10, 100, 500]\n",
    "drop_rate_list = [0, 5, 10, 15, 25]\n",
    "\n",
    "for kb in kb_list:\n",
    "    for drop_rate in drop_rate_list:\n",
    "        if kb == 500 and drop_rate == 25:\n",
    "            continue\n",
    "        print(f\"For {kb}KB and {drop_rate}% drop rate:\")\n",
    "        df = get_processed_df(f\"received-data/lab1/{kb}_drop_{drop_rate}.json\", f\"sent-data/lab1/{kb}_drop_{drop_rate}.json\")\n",
    "        get_stats_values(df)\n",
    "        print(\"--------------------\")"
   ]
  },
  {
   "cell_type": "markdown",
   "metadata": {},
   "source": [
    "#### plot relationship between drop rate and delay"
   ]
  },
  {
   "cell_type": "code",
   "execution_count": 8,
   "metadata": {},
   "outputs": [],
   "source": [
    "import matplotlib.pyplot as plt"
   ]
  },
  {
   "cell_type": "code",
   "execution_count": 43,
   "metadata": {},
   "outputs": [
    {
     "data": {
      "image/png": "[encoded data removed]",
      "text/plain": [
       "<Figure size 432x288 with 1 Axes>"
      ]
     },
     "metadata": {
      "needs_background": "light"
     },
     "output_type": "display_data"
    }
   ],
   "source": [
    "\n",
    "kb_list = [10, 100, 500]\n",
    "drop_rate_list = [0, 5, 10, 15, 25]\n",
    "\n",
    "# every key is a drop rate, and the value is also a dict with key is kb and value is average delay in microseconds\n",
    "drop_rate_kb_dict = {}\n",
    "for drop_rate in drop_rate_list:\n",
    "    drop_rate_kb_dict[drop_rate] = {}\n",
    "    for kb in kb_list:\n",
    "        if kb == 500 and drop_rate == 25:\n",
    "            continue\n",
    "        df = get_processed_df(f\"received-data/lab1/{kb}_drop_{drop_rate}.json\", f\"sent-data/lab1/{kb}_drop_{drop_rate}.json\")\n",
    "        drop_rate_kb_dict[drop_rate][kb] = df['delay_in_microseconds'].mean() / 1000\n",
    "\n",
    "# plot\n",
    "for kb in kb_list:\n",
    "    x = []\n",
    "    y = []\n",
    "    for drop_rate in drop_rate_list:\n",
    "        if kb == 500 and drop_rate == 25:\n",
    "            continue\n",
    "        x.append(drop_rate)\n",
    "        y.append(drop_rate_kb_dict[drop_rate][kb])\n",
    "    plt.plot(x, y, label=f\"{kb}KB\")\n",
    "    plt.xlabel(\"Drop rate (%)\")\n",
    "    plt.ylabel(\"Average delay (milliseconds)\")\n",
    "    # legend\n",
    "    plt.legend()"
   ]
  },
  {
   "cell_type": "markdown",
   "metadata": {},
   "source": [
    "### Lab 2"
   ]
  },
  {
   "cell_type": "code",
   "execution_count": 7,
   "metadata": {},
   "outputs": [
    {
     "name": "stdout",
     "output_type": "stream",
     "text": [
      "For 1KB and 10% drop rate:\n",
      "Total sent packets: 15000\n",
      "Total received packets: 15000\n",
      "Total lost packets: 0\n",
      "Total lost packets percentage: 0.0%\n",
      "Average delay: 50750.346666666665 microseconds\n",
      "--------------------\n",
      "For 4KB and 10% drop rate:\n",
      "Total sent packets: 15000\n",
      "Total received packets: 14621\n",
      "Total lost packets: 379\n",
      "Total lost packets percentage: 2.526666666666667%\n",
      "Average delay: 175299.61808357842 microseconds\n",
      "--------------------\n",
      "For 8KB and 10% drop rate:\n",
      "Total sent packets: 2000\n",
      "Total received packets: 1635\n",
      "Total lost packets: 365\n",
      "Total lost packets percentage: 18.25%\n",
      "Average delay: 271910.895412844 microseconds\n",
      "--------------------\n",
      "For 16KB and 10% drop rate:\n",
      "Total sent packets: 15000\n",
      "Total received packets: 7248\n",
      "Total lost packets: 7752\n",
      "Total lost packets percentage: 51.68000000000001%\n",
      "Average delay: 472607.69991721853 microseconds\n",
      "--------------------\n",
      "For 32KB and 10% drop rate:\n",
      "Total sent packets: 1000\n",
      "Total received packets: 205\n",
      "Total lost packets: 795\n",
      "Total lost packets percentage: 79.5%\n",
      "Average delay: 407942.2048780488 microseconds\n",
      "--------------------\n",
      "For 64KB and 10% drop rate:\n",
      "Total sent packets: 15000\n",
      "Total received packets: 2055\n",
      "Total lost packets: 12945\n",
      "Total lost packets percentage: 86.3%\n",
      "Average delay: 542174.8739659367 microseconds\n",
      "--------------------\n",
      "For 128KB and 10% drop rate:\n",
      "Total sent packets: 981\n",
      "Total received packets: 981\n",
      "Total lost packets: 0\n",
      "Total lost packets percentage: 0.0%\n",
      "Average delay: 885348.8103975535 microseconds\n",
      "--------------------\n",
      "For 256KB and 10% drop rate:\n",
      "Total sent packets: 5000\n",
      "Total received packets: 587\n",
      "Total lost packets: 4413\n",
      "Total lost packets percentage: 88.26%\n",
      "Average delay: 854033.8858603067 microseconds\n",
      "--------------------\n",
      "For 512KB and 10% drop rate:\n",
      "Total sent packets: 1000\n",
      "Total received packets: 104\n",
      "Total lost packets: 896\n",
      "Total lost packets percentage: 89.60000000000001%\n",
      "Average delay: 1481177.6634615385 microseconds\n",
      "--------------------\n",
      "For 1024KB and 10% drop rate:\n",
      "Total sent packets: 1500\n",
      "Total received packets: 162\n",
      "Total lost packets: 1338\n",
      "Total lost packets percentage: 89.2%\n",
      "Average delay: 2884526.1481481483 microseconds\n",
      "--------------------\n"
     ]
    }
   ],
   "source": [
    "kb_list = [1, 4, 8, 16, 32, 64, 128, 256, 512, 1024]\n",
    "\n",
    "for kb in kb_list:\n",
    "    print(f\"For {kb}KB and 10% drop rate:\")\n",
    "    df = get_processed_df(f\"received-data/lab2/{kb}_drop_10.json\", f\"sent-data/lab2/{kb}_drop_10.json\")\n",
    "    get_stats_values(df)\n",
    "    print(\"--------------------\")"
   ]
  },
  {
   "cell_type": "code",
   "execution_count": 25,
   "metadata": {},
   "outputs": [
    {
     "data": {
      "text/plain": [
       "([<matplotlib.axis.XTick at 0x1cabbb26850>,\n",
       "  <matplotlib.axis.XTick at 0x1cabbb26820>,\n",
       "  <matplotlib.axis.XTick at 0x1cabb8e0070>,\n",
       "  <matplotlib.axis.XTick at 0x1cabbb523d0>,\n",
       "  <matplotlib.axis.XTick at 0x1cabbb52b20>,\n",
       "  <matplotlib.axis.XTick at 0x1cabbb582b0>,\n",
       "  <matplotlib.axis.XTick at 0x1cabbb58a00>,\n",
       "  <matplotlib.axis.XTick at 0x1cabbb40190>,\n",
       "  <matplotlib.axis.XTick at 0x1cabbb408e0>],\n",
       " [Text(0, 0, '1'),\n",
       "  Text(1, 0, '4'),\n",
       "  Text(2, 0, '8'),\n",
       "  Text(3, 0, '16'),\n",
       "  Text(4, 0, '32'),\n",
       "  Text(5, 0, '64'),\n",
       "  Text(6, 0, '256'),\n",
       "  Text(7, 0, '512'),\n",
       "  Text(8, 0, '1024')])"
      ]
     },
     "execution_count": 25,
     "metadata": {},
     "output_type": "execute_result"
    },
    {
     "data": {
      "image/png": "[encoded data removed]",
      "text/plain": [
       "<Figure size 1296x576 with 1 Axes>"
      ]
     },
     "metadata": {
      "needs_background": "light"
     },
     "output_type": "display_data"
    }
   ],
   "source": [
    "# make figure larger\n",
    "plt.rcParams[\"figure.figsize\"] = (18,8)\n",
    "\n",
    "kb_list = [1, 4, 8, 16, 32, 64, 256, 512, 1024]\n",
    "default_x_ticks = range(len(kb_list))\n",
    "avg_delay_list = []\n",
    "for kb in kb_list:\n",
    "    df = get_processed_df(f\"received-data/lab2/{kb}_drop_10.json\", f\"sent-data/lab2/{kb}_drop_10.json\")\n",
    "    avg_delay_list.append(df['delay_in_microseconds'].mean() / 1000)\n",
    "\n",
    "plt.xlabel(\"Packet size (KB)\")\n",
    "plt.ylabel(\"Average delay (milliseconds)\")\n",
    "plt.plot(default_x_ticks, avg_delay_list, label=\"Average delay\", marker='o')\n",
    "plt.xticks(default_x_ticks, kb_list)"
   ]
  },
  {
   "cell_type": "code",
   "execution_count": 24,
   "metadata": {},
   "outputs": [
    {
     "data": {
      "text/plain": [
       "<matplotlib.lines.Line2D at 0x1cabb8ecc40>"
      ]
     },
     "execution_count": 24,
     "metadata": {},
     "output_type": "execute_result"
    },
    {
     "data": {
      "image/png": "[encoded data removed]",
      "text/plain": [
       "<Figure size 1296x576 with 1 Axes>"
      ]
     },
     "metadata": {
      "needs_background": "light"
     },
     "output_type": "display_data"
    }
   ],
   "source": [
    "# make figure larger\n",
    "plt.rcParams[\"figure.figsize\"] = (18,8)\n",
    "\n",
    "kb_list = [1, 4, 8, 16, 32, 64, 256, 512, 1024]\n",
    "default_x_ticks = range(len(kb_list))\n",
    "true_drop_percent_list = []\n",
    "for kb in kb_list:\n",
    "    df = get_processed_df(f\"received-data/lab2/{kb}_drop_10.json\", f\"sent-data/lab2/{kb}_drop_10.json\")\n",
    "    total_sent_packets = df.shape[0]\n",
    "    total_received_packets = df[df['received_time'].notnull()].shape[0]\n",
    "    true_drop_percent_list.append((total_sent_packets - total_received_packets) / total_sent_packets * 100)\n",
    "\n",
    "plt.xlabel(\"Packet size (KB)\")\n",
    "plt.ylabel(\"True drop rate (%)\")\n",
    "plt.plot(default_x_ticks, true_drop_percent_list, label=\"True drop rate\", marker='o')\n",
    "plt.xticks(default_x_ticks, kb_list)\n",
    "\n",
    "# plot a line for 10% drop rate (horizontal line)\n",
    "plt.axhline(y=10, color='r', linestyle='-')"
   ]
  },
  {
   "cell_type": "code",
   "execution_count": null,
   "metadata": {},
   "outputs": [],
   "source": []
  }
 ],
 "metadata": {
  "kernelspec": {
   "display_name": "python39",
   "language": "python",
   "name": "python3"
  },
  "language_info": {
   "codemirror_mode": {
    "name": "ipython",
    "version": 3
   },
   "file_extension": ".py",
   "mimetype": "text/x-python",
   "name": "python",
   "nbconvert_exporter": "python",
   "pygments_lexer": "ipython3",
   "version": "3.9.12"
  },
  "orig_nbformat": 4,
  "vscode": {
   "interpreter": {
    "hash": "f1f0ca08df83ebe1228368c35aef2dd5bdef6efbf7330e5bb8a931893862d7fc"
   }
  }
 },
 "nbformat": 4,
 "nbformat_minor": 2
}
