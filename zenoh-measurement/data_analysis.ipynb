{
 "cells": [
  {
   "cell_type": "code",
   "execution_count": 1,
   "metadata": {},
   "outputs": [],
   "source": [
    "import pandas as pd"
   ]
  },
  {
   "cell_type": "code",
   "execution_count": 7,
   "metadata": {},
   "outputs": [],
   "source": [
    "sent_packet_result = pd.read_json('sent-data/run1.json')\n",
    "received_packet_result = pd.read_json('received-data/run1.json')\n",
    "\n",
    "# for every sent packet, it has 2 keys: 'start_time' and 'sent_packet_list'\n",
    "# for every sent_packet_list, it is a dictionary with 2 keys: 'packet_id' and 'sent_time'\n",
    "# let these 2 keys be the columns of the dataframe\n",
    "sent_packet_result = pd.json_normalize(sent_packet_result['sent_packet_list'])\n",
    "sent_packet_result = sent_packet_result.rename(columns={'packet_id': 'sent_packet_id', 'sent_time': 'sent_time'})\n",
    "received_packet_result = pd.json_normalize(received_packet_result['received_packet_list'])\n",
    "received_packet_result = received_packet_result.rename(columns={'packet_id': 'received_packet_id', 'received_time': 'received_time'})\n",
    "\n",
    "# make sure the packet_id is int for two dataframes\n",
    "sent_packet_result['sent_packet_id'] = sent_packet_result['sent_packet_id'].astype(int)\n",
    "received_packet_result['received_packet_id'] = received_packet_result['received_packet_id'].astype(int)"
   ]
  },
  {
   "cell_type": "code",
   "execution_count": 10,
   "metadata": {},
   "outputs": [],
   "source": [
    "# merge the two dataframes\n",
    "merged_result = pd.merge(sent_packet_result, received_packet_result, how='inner', left_on='sent_packet_id', right_on='received_packet_id')\n",
    "# drop the received_packet_id column and rename sent_packet_id to packet_id\n",
    "merged_result = merged_result.drop(columns=['received_packet_id'])\n",
    "merged_result = merged_result.rename(columns={'sent_packet_id': 'packet_id'})"
   ]
  },
  {
   "cell_type": "code",
   "execution_count": 11,
   "metadata": {},
   "outputs": [
    {
     "data": {
      "text/html": [
       "<div>\n",
       "<style scoped>\n",
       "    .dataframe tbody tr th:only-of-type {\n",
       "        vertical-align: middle;\n",
       "    }\n",
       "\n",
       "    .dataframe tbody tr th {\n",
       "        vertical-align: top;\n",
       "    }\n",
       "\n",
       "    .dataframe thead th {\n",
       "        text-align: right;\n",
       "    }\n",
       "</style>\n",
       "<table border=\"1\" class=\"dataframe\">\n",
       "  <thead>\n",
       "    <tr style=\"text-align: right;\">\n",
       "      <th></th>\n",
       "      <th>packet_id</th>\n",
       "      <th>sent_time</th>\n",
       "      <th>received_time</th>\n",
       "    </tr>\n",
       "  </thead>\n",
       "  <tbody>\n",
       "    <tr>\n",
       "      <th>0</th>\n",
       "      <td>0</td>\n",
       "      <td>1669902508506</td>\n",
       "      <td>1669902508722</td>\n",
       "    </tr>\n",
       "    <tr>\n",
       "      <th>1</th>\n",
       "      <td>1</td>\n",
       "      <td>1669902508735</td>\n",
       "      <td>1669902509150</td>\n",
       "    </tr>\n",
       "    <tr>\n",
       "      <th>2</th>\n",
       "      <td>2</td>\n",
       "      <td>1669902509166</td>\n",
       "      <td>1669902509465</td>\n",
       "    </tr>\n",
       "    <tr>\n",
       "      <th>3</th>\n",
       "      <td>3</td>\n",
       "      <td>1669902509475</td>\n",
       "      <td>1669902509807</td>\n",
       "    </tr>\n",
       "    <tr>\n",
       "      <th>4</th>\n",
       "      <td>4</td>\n",
       "      <td>1669902509819</td>\n",
       "      <td>1669902510160</td>\n",
       "    </tr>\n",
       "    <tr>\n",
       "      <th>...</th>\n",
       "      <td>...</td>\n",
       "      <td>...</td>\n",
       "      <td>...</td>\n",
       "    </tr>\n",
       "    <tr>\n",
       "      <th>95</th>\n",
       "      <td>95</td>\n",
       "      <td>1669902546659</td>\n",
       "      <td>1669902547005</td>\n",
       "    </tr>\n",
       "    <tr>\n",
       "      <th>96</th>\n",
       "      <td>96</td>\n",
       "      <td>1669902547017</td>\n",
       "      <td>1669902547374</td>\n",
       "    </tr>\n",
       "    <tr>\n",
       "      <th>97</th>\n",
       "      <td>97</td>\n",
       "      <td>1669902547386</td>\n",
       "      <td>1669902547751</td>\n",
       "    </tr>\n",
       "    <tr>\n",
       "      <th>98</th>\n",
       "      <td>98</td>\n",
       "      <td>1669902547763</td>\n",
       "      <td>1669902548260</td>\n",
       "    </tr>\n",
       "    <tr>\n",
       "      <th>99</th>\n",
       "      <td>99</td>\n",
       "      <td>1669902548280</td>\n",
       "      <td>1669902548595</td>\n",
       "    </tr>\n",
       "  </tbody>\n",
       "</table>\n",
       "<p>100 rows × 3 columns</p>\n",
       "</div>"
      ],
      "text/plain": [
       "    packet_id      sent_time  received_time\n",
       "0           0  1669902508506  1669902508722\n",
       "1           1  1669902508735  1669902509150\n",
       "2           2  1669902509166  1669902509465\n",
       "3           3  1669902509475  1669902509807\n",
       "4           4  1669902509819  1669902510160\n",
       "..        ...            ...            ...\n",
       "95         95  1669902546659  1669902547005\n",
       "96         96  1669902547017  1669902547374\n",
       "97         97  1669902547386  1669902547751\n",
       "98         98  1669902547763  1669902548260\n",
       "99         99  1669902548280  1669902548595\n",
       "\n",
       "[100 rows x 3 columns]"
      ]
     },
     "execution_count": 11,
     "metadata": {},
     "output_type": "execute_result"
    }
   ],
   "source": [
    "merged_result"
   ]
  },
  {
   "cell_type": "code",
   "execution_count": null,
   "metadata": {},
   "outputs": [],
   "source": []
  }
 ],
 "metadata": {
  "kernelspec": {
   "display_name": "Python 3.9.12 ('python39')",
   "language": "python",
   "name": "python3"
  },
  "language_info": {
   "codemirror_mode": {
    "name": "ipython",
    "version": 3
   },
   "file_extension": ".py",
   "mimetype": "text/x-python",
   "name": "python",
   "nbconvert_exporter": "python",
   "pygments_lexer": "ipython3",
   "version": "3.9.12"
  },
  "orig_nbformat": 4,
  "vscode": {
   "interpreter": {
    "hash": "f1f0ca08df83ebe1228368c35aef2dd5bdef6efbf7330e5bb8a931893862d7fc"
   }
  }
 },
 "nbformat": 4,
 "nbformat_minor": 2
}
