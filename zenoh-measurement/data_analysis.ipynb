{
 "cells": [
  {
   "cell_type": "code",
   "execution_count": 111,
   "metadata": {},
   "outputs": [],
   "source": [
    "import pandas as pd\n",
    "import math"
   ]
  },
  {
   "cell_type": "code",
   "execution_count": 125,
   "metadata": {},
   "outputs": [],
   "source": [
    "# calculate seconds for sent\n",
    "def get_processed_df(run_id: int, Mbps: int) -> pd.DataFrame:\n",
    "    sent_df = pd.read_json(f'sent-data/{Mbps}M/{run_id}.json')\n",
    "    received_df = pd.read_json(f'received-data/{Mbps}M/{run_id}.json')\n",
    "    sent_df = pd.json_normalize(sent_df['sent_packet_list'])\n",
    "    received_df = pd.json_normalize(received_df['received_packet_list'])\n",
    "    sent_df['second'] = (sent_df['sent_time'] - sent_df['sent_time'].iloc[0]) / 1000\n",
    "    sent_df['second'] = sent_df['second'].apply(lambda x: math.floor(x))\n",
    "    sent_df['packet_id'] = sent_df['packet_id'].astype(int)\n",
    "    received_df['packet_id'] = received_df['packet_id'].astype(int)\n",
    "    sent_received = pd.merge(sent_df, received_df, how='left', left_on='packet_id', right_on='packet_id')\n",
    "    return sent_received"
   ]
  },
  {
   "cell_type": "code",
   "execution_count": 126,
   "metadata": {},
   "outputs": [],
   "source": [
    "def get_stats_values(df: pd.DataFrame) -> None:\n",
    "    total_sent_packets = df.shape[0]\n",
    "    total_received_packets = df[df['received_time'].notnull()].shape[0]\n",
    "    print(f\"Total sent packets: {total_sent_packets}\")\n",
    "    print(f\"Total received packets: {total_received_packets}\")\n",
    "    print(f\"Total lost packets: {total_sent_packets - total_received_packets}\")\n",
    "    print(f\"Total lost packets percentage: {(total_sent_packets - total_received_packets) / total_sent_packets * 100}%\")"
   ]
  },
  {
   "cell_type": "code",
   "execution_count": 127,
   "metadata": {},
   "outputs": [
    {
     "data": {
      "text/html": [
       "<div>\n",
       "<style scoped>\n",
       "    .dataframe tbody tr th:only-of-type {\n",
       "        vertical-align: middle;\n",
       "    }\n",
       "\n",
       "    .dataframe tbody tr th {\n",
       "        vertical-align: top;\n",
       "    }\n",
       "\n",
       "    .dataframe thead th {\n",
       "        text-align: right;\n",
       "    }\n",
       "</style>\n",
       "<table border=\"1\" class=\"dataframe\">\n",
       "  <thead>\n",
       "    <tr style=\"text-align: right;\">\n",
       "      <th></th>\n",
       "      <th>packet_id</th>\n",
       "      <th>sent_time</th>\n",
       "      <th>second</th>\n",
       "      <th>received_time</th>\n",
       "    </tr>\n",
       "  </thead>\n",
       "  <tbody>\n",
       "    <tr>\n",
       "      <th>0</th>\n",
       "      <td>0</td>\n",
       "      <td>1669912392686</td>\n",
       "      <td>0</td>\n",
       "      <td>NaN</td>\n",
       "    </tr>\n",
       "    <tr>\n",
       "      <th>1</th>\n",
       "      <td>1</td>\n",
       "      <td>1669912392791</td>\n",
       "      <td>0</td>\n",
       "      <td>NaN</td>\n",
       "    </tr>\n",
       "    <tr>\n",
       "      <th>2</th>\n",
       "      <td>2</td>\n",
       "      <td>1669912392894</td>\n",
       "      <td>0</td>\n",
       "      <td>NaN</td>\n",
       "    </tr>\n",
       "    <tr>\n",
       "      <th>3</th>\n",
       "      <td>3</td>\n",
       "      <td>1669912392997</td>\n",
       "      <td>0</td>\n",
       "      <td>1.669912e+12</td>\n",
       "    </tr>\n",
       "    <tr>\n",
       "      <th>4</th>\n",
       "      <td>4</td>\n",
       "      <td>1669912393616</td>\n",
       "      <td>0</td>\n",
       "      <td>1.669912e+12</td>\n",
       "    </tr>\n",
       "    <tr>\n",
       "      <th>...</th>\n",
       "      <td>...</td>\n",
       "      <td>...</td>\n",
       "      <td>...</td>\n",
       "      <td>...</td>\n",
       "    </tr>\n",
       "    <tr>\n",
       "      <th>115</th>\n",
       "      <td>115</td>\n",
       "      <td>1669912425239</td>\n",
       "      <td>32</td>\n",
       "      <td>NaN</td>\n",
       "    </tr>\n",
       "    <tr>\n",
       "      <th>116</th>\n",
       "      <td>116</td>\n",
       "      <td>1669912425340</td>\n",
       "      <td>32</td>\n",
       "      <td>NaN</td>\n",
       "    </tr>\n",
       "    <tr>\n",
       "      <th>117</th>\n",
       "      <td>117</td>\n",
       "      <td>1669912425441</td>\n",
       "      <td>32</td>\n",
       "      <td>NaN</td>\n",
       "    </tr>\n",
       "    <tr>\n",
       "      <th>118</th>\n",
       "      <td>118</td>\n",
       "      <td>1669912425542</td>\n",
       "      <td>32</td>\n",
       "      <td>NaN</td>\n",
       "    </tr>\n",
       "    <tr>\n",
       "      <th>119</th>\n",
       "      <td>119</td>\n",
       "      <td>1669912425643</td>\n",
       "      <td>32</td>\n",
       "      <td>NaN</td>\n",
       "    </tr>\n",
       "  </tbody>\n",
       "</table>\n",
       "<p>120 rows × 4 columns</p>\n",
       "</div>"
      ],
      "text/plain": [
       "     packet_id      sent_time  second  received_time\n",
       "0            0  1669912392686       0            NaN\n",
       "1            1  1669912392791       0            NaN\n",
       "2            2  1669912392894       0            NaN\n",
       "3            3  1669912392997       0   1.669912e+12\n",
       "4            4  1669912393616       0   1.669912e+12\n",
       "..         ...            ...     ...            ...\n",
       "115        115  1669912425239      32            NaN\n",
       "116        116  1669912425340      32            NaN\n",
       "117        117  1669912425441      32            NaN\n",
       "118        118  1669912425542      32            NaN\n",
       "119        119  1669912425643      32            NaN\n",
       "\n",
       "[120 rows x 4 columns]"
      ]
     },
     "execution_count": 127,
     "metadata": {},
     "output_type": "execute_result"
    }
   ],
   "source": [
    "df1 = get_processed_df(1, 10)\n",
    "df1"
   ]
  },
  {
   "cell_type": "code",
   "execution_count": 128,
   "metadata": {},
   "outputs": [
    {
     "name": "stdout",
     "output_type": "stream",
     "text": [
      "Total sent packets: 120\n",
      "Total received packets: 32\n",
      "Total lost packets: 88\n",
      "Total lost packets percentage: 73.33333333333333%\n"
     ]
    }
   ],
   "source": [
    "get_stats_values(df1)"
   ]
  },
  {
   "cell_type": "code",
   "execution_count": 130,
   "metadata": {},
   "outputs": [
    {
     "name": "stdout",
     "output_type": "stream",
     "text": [
      "Display stats for run 1\n",
      "Total sent packets: 120\n",
      "Total received packets: 32\n",
      "Total lost packets: 88\n",
      "Total lost packets percentage: 73.33333333333333%\n",
      "-------------------------\n",
      "Display stats for run 2\n",
      "Total sent packets: 120\n",
      "Total received packets: 32\n",
      "Total lost packets: 88\n",
      "Total lost packets percentage: 73.33333333333333%\n",
      "-------------------------\n",
      "Display stats for run 3\n",
      "Total sent packets: 120\n",
      "Total received packets: 32\n",
      "Total lost packets: 88\n",
      "Total lost packets percentage: 73.33333333333333%\n",
      "-------------------------\n",
      "Display stats for run 4\n",
      "Total sent packets: 120\n",
      "Total received packets: 32\n",
      "Total lost packets: 88\n",
      "Total lost packets percentage: 73.33333333333333%\n",
      "-------------------------\n",
      "Display stats for run 5\n",
      "Total sent packets: 120\n",
      "Total received packets: 32\n",
      "Total lost packets: 88\n",
      "Total lost packets percentage: 73.33333333333333%\n",
      "-------------------------\n"
     ]
    }
   ],
   "source": [
    "second_received_packets_lists = []\n",
    "for i in range(1, 6):\n",
    "    df = get_processed_df(i, 10)\n",
    "    print(f\"Display stats for run {i}\")\n",
    "    get_stats_values(df)\n",
    "    print(\"-------------------------\")\n",
    "    second_received_packets_list = []\n",
    "    for second in range(df['second'].max() + 1):\n",
    "        second_df = df[df['second'] == second]\n",
    "        second_received_packets = second_df[second_df['received_time'].notnull()].shape[0]\n",
    "        second_received_packets_list.append(second_received_packets)\n",
    "    second_received_packets_lists.append(second_received_packets_list)\n",
    "    "
   ]
  },
  {
   "cell_type": "code",
   "execution_count": 122,
   "metadata": {},
   "outputs": [
    {
     "name": "stdout",
     "output_type": "stream",
     "text": [
      "Max second count: 36\n"
     ]
    }
   ],
   "source": [
    "# second_received_packets_lists is a list of list, we want to calculate the max second count\n",
    "max_second_count = 0\n",
    "for second_received_packets_list in second_received_packets_lists:\n",
    "    if len(second_received_packets_list) > max_second_count:\n",
    "        max_second_count = len(second_received_packets_list)\n",
    "        \n",
    "print(f\"Max second count: {max_second_count}\")"
   ]
  },
  {
   "cell_type": "code",
   "execution_count": 124,
   "metadata": {},
   "outputs": [
    {
     "data": {
      "image/png": "[encoded data removed]",
      "text/plain": [
       "<Figure size 432x288 with 1 Axes>"
      ]
     },
     "metadata": {
      "needs_background": "light"
     },
     "output_type": "display_data"
    }
   ],
   "source": [
    "# second_received_packets_lists is a list of list, we want to calculate the max second count\n",
    "max_second_count = 0\n",
    "for second_received_packets_list in second_received_packets_lists:\n",
    "    if len(second_received_packets_list) > max_second_count:\n",
    "        max_second_count = len(second_received_packets_list)\n",
    "        \n",
    "print(f\"Max second count: {max_second_count}\")\n",
    "# create a list of size max_second_count, and each element is average of the same second in every list\n",
    "average_second_received_packets_list = []\n",
    "for i in range(max_second_count):\n",
    "    total_received_packets = 0\n",
    "    for second_received_packets_list in second_received_packets_lists:\n",
    "        if i < len(second_received_packets_list):\n",
    "            total_received_packets += second_received_packets_list[i]\n",
    "    average_second_received_packets_list.append(total_received_packets / len(second_received_packets_lists))\n",
    "\n",
    "# plot the average line chart\n",
    "plt.plot(average_second_received_packets_list)\n",
    "plt.xlabel('seconds')\n",
    "plt.ylabel('received packets')\n",
    "plt.title('Average received packets per second for 10M data')\n",
    "plt.show()"
   ]
  },
  {
   "cell_type": "code",
   "execution_count": 131,
   "metadata": {},
   "outputs": [
    {
     "name": "stdout",
     "output_type": "stream",
     "text": [
      "Display stats for run 1\n",
      "Total sent packets: 120\n",
      "Total received packets: 88\n",
      "Total lost packets: 32\n",
      "Total lost packets percentage: 26.666666666666668%\n",
      "-------------------------\n",
      "Display stats for run 2\n",
      "Total sent packets: 120\n",
      "Total received packets: 99\n",
      "Total lost packets: 21\n",
      "Total lost packets percentage: 17.5%\n",
      "-------------------------\n",
      "Display stats for run 3\n",
      "Total sent packets: 120\n",
      "Total received packets: 93\n",
      "Total lost packets: 27\n",
      "Total lost packets percentage: 22.5%\n",
      "-------------------------\n",
      "Display stats for run 4\n",
      "Total sent packets: 120\n",
      "Total received packets: 94\n",
      "Total lost packets: 26\n",
      "Total lost packets percentage: 21.666666666666668%\n",
      "-------------------------\n",
      "Display stats for run 5\n",
      "Total sent packets: 120\n",
      "Total received packets: 90\n",
      "Total lost packets: 30\n",
      "Total lost packets percentage: 25.0%\n",
      "-------------------------\n"
     ]
    }
   ],
   "source": [
    "second_received_packets_lists = []\n",
    "for i in range(1, 6):\n",
    "    df = get_processed_df(i, 100)\n",
    "    print(f\"Display stats for run {i}\")\n",
    "    get_stats_values(df)\n",
    "    print(\"-------------------------\")\n",
    "    second_received_packets_list = []\n",
    "    for second in range(df['second'].max() + 1):\n",
    "        second_df = df[df['second'] == second]\n",
    "        second_received_packets = second_df[second_df['received_time'].notnull()].shape[0]\n",
    "        second_received_packets_list.append(second_received_packets)\n",
    "    second_received_packets_lists.append(second_received_packets_list)\n",
    "    "
   ]
  },
  {
   "cell_type": "code",
   "execution_count": 133,
   "metadata": {},
   "outputs": [
    {
     "name": "stdout",
     "output_type": "stream",
     "text": [
      "Max second count: 27\n"
     ]
    },
    {
     "data": {
      "image/png": "[encoded data removed]",
      "text/plain": [
       "<Figure size 432x288 with 1 Axes>"
      ]
     },
     "metadata": {
      "needs_background": "light"
     },
     "output_type": "display_data"
    }
   ],
   "source": [
    "# second_received_packets_lists is a list of list, we want to calculate the max second count\n",
    "max_second_count = 0\n",
    "for second_received_packets_list in second_received_packets_lists:\n",
    "    if len(second_received_packets_list) > max_second_count:\n",
    "        max_second_count = len(second_received_packets_list)\n",
    "        \n",
    "print(f\"Max second count: {max_second_count}\")\n",
    "# create a list of size max_second_count, and each element is average of the same second in every list\n",
    "average_second_received_packets_list = []\n",
    "for i in range(max_second_count):\n",
    "    total_received_packets = 0\n",
    "    for second_received_packets_list in second_received_packets_lists:\n",
    "        if i < len(second_received_packets_list):\n",
    "            total_received_packets += second_received_packets_list[i]\n",
    "    average_second_received_packets_list.append(total_received_packets / len(second_received_packets_lists))\n",
    "\n",
    "# plot the average line chart\n",
    "plt.plot(average_second_received_packets_list)\n",
    "plt.xlabel('seconds')\n",
    "plt.ylabel('received packets')\n",
    "plt.title('Average received packets per second for 100M data')\n",
    "plt.show()"
   ]
  },
  {
   "cell_type": "code",
   "execution_count": null,
   "metadata": {},
   "outputs": [],
   "source": []
  }
 ],
 "metadata": {
  "kernelspec": {
   "display_name": "Python 3.9.12 ('python39')",
   "language": "python",
   "name": "python3"
  },
  "language_info": {
   "codemirror_mode": {
    "name": "ipython",
    "version": 3
   },
   "file_extension": ".py",
   "mimetype": "text/x-python",
   "name": "python",
   "nbconvert_exporter": "python",
   "pygments_lexer": "ipython3",
   "version": "3.9.12"
  },
  "orig_nbformat": 4,
  "vscode": {
   "interpreter": {
    "hash": "f1f0ca08df83ebe1228368c35aef2dd5bdef6efbf7330e5bb8a931893862d7fc"
   }
  }
 },
 "nbformat": 4,
 "nbformat_minor": 2
}
