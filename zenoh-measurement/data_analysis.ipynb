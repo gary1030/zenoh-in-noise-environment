{
 "cells": [
  {
   "cell_type": "code",
   "execution_count": 1,
   "metadata": {},
   "outputs": [],
   "source": [
    "import pandas as pd\n",
    "import matplotlib.pyplot as plt\n",
    "import math"
   ]
  },
  {
   "cell_type": "code",
   "execution_count": 4,
   "metadata": {},
   "outputs": [],
   "source": [
    "# calculate seconds for sent\n",
    "def get_processed_df(received_data_path: str, sent_data_path: str) -> pd.DataFrame:\n",
    "    \"\"\"\n",
    "    Get processed dataframe for a run.  \n",
    "    It will merge sent and received json files and calculate seconds for sent packets.\n",
    "    \"\"\"\n",
    "    sent_df = pd.read_json(sent_data_path)\n",
    "    received_df = pd.read_json(received_data_path)\n",
    "    received_df = None\n",
    "    \n",
    "    sent_df = pd.json_normalize(sent_df['sent_packet_list'])\n",
    "    received_df = pd.json_normalize(received_df['received_packet_list'])\n",
    "    sent_df['second'] = (sent_df['sent_time'] - sent_df['sent_time'].iloc[0]) / 1000\n",
    "    sent_df['second'] = sent_df['second'].apply(lambda x: math.floor(x))\n",
    "    sent_df['packet_id'] = sent_df['packet_id'].astype(int)\n",
    "    received_df['packet_id'] = received_df['packet_id'].astype(int)\n",
    "    sent_received = pd.merge(sent_df, received_df, how='left', left_on='packet_id', right_on='packet_id')\n",
    "    sent_received['delay'] = sent_received['received_time'] - sent_received['sent_time']\n",
    "    return sent_received"
   ]
  },
  {
   "cell_type": "code",
   "execution_count": 5,
   "metadata": {},
   "outputs": [],
   "source": [
    "def get_stats_values(df: pd.DataFrame) -> None:\n",
    "    total_sent_packets = df.shape[0]\n",
    "    total_received_packets = df[df['received_time'].notnull()].shape[0]\n",
    "    print(f\"Total sent packets: {total_sent_packets}\")\n",
    "    print(f\"Total received packets: {total_received_packets}\")\n",
    "    print(f\"Total lost packets: {total_sent_packets - total_received_packets}\")\n",
    "    print(f\"Total lost packets percentage: {(total_sent_packets - total_received_packets) / total_sent_packets * 100}%\")\n",
    "    print(f\"Average delay: {df['delay'].mean()} ms\")"
   ]
  },
  {
   "cell_type": "code",
   "execution_count": null,
   "metadata": {},
   "outputs": [],
   "source": [
    "_10k_drop_0_1_received_df = get_processed_df(\"received-data/LAN/10k_drop_0_1.json\", \"sent-data/10k-drop-0.1.json\")"
   ]
  },
  {
   "cell_type": "code",
   "execution_count": 7,
   "metadata": {},
   "outputs": [
    {
     "data": {
      "text/html": [
       "<div>\n",
       "<style scoped>\n",
       "    .dataframe tbody tr th:only-of-type {\n",
       "        vertical-align: middle;\n",
       "    }\n",
       "\n",
       "    .dataframe tbody tr th {\n",
       "        vertical-align: top;\n",
       "    }\n",
       "\n",
       "    .dataframe thead th {\n",
       "        text-align: right;\n",
       "    }\n",
       "</style>\n",
       "<table border=\"1\" class=\"dataframe\">\n",
       "  <thead>\n",
       "    <tr style=\"text-align: right;\">\n",
       "      <th></th>\n",
       "      <th>packet_id</th>\n",
       "      <th>sent_time</th>\n",
       "      <th>second</th>\n",
       "      <th>received_time</th>\n",
       "      <th>delay</th>\n",
       "    </tr>\n",
       "  </thead>\n",
       "  <tbody>\n",
       "    <tr>\n",
       "      <th>0</th>\n",
       "      <td>0</td>\n",
       "      <td>1669912392686</td>\n",
       "      <td>0</td>\n",
       "      <td>NaN</td>\n",
       "      <td>NaN</td>\n",
       "    </tr>\n",
       "    <tr>\n",
       "      <th>1</th>\n",
       "      <td>1</td>\n",
       "      <td>1669912392791</td>\n",
       "      <td>0</td>\n",
       "      <td>NaN</td>\n",
       "      <td>NaN</td>\n",
       "    </tr>\n",
       "    <tr>\n",
       "      <th>2</th>\n",
       "      <td>2</td>\n",
       "      <td>1669912392894</td>\n",
       "      <td>0</td>\n",
       "      <td>NaN</td>\n",
       "      <td>NaN</td>\n",
       "    </tr>\n",
       "    <tr>\n",
       "      <th>3</th>\n",
       "      <td>3</td>\n",
       "      <td>1669912392997</td>\n",
       "      <td>0</td>\n",
       "      <td>1.669912e+12</td>\n",
       "      <td>899.0</td>\n",
       "    </tr>\n",
       "    <tr>\n",
       "      <th>4</th>\n",
       "      <td>4</td>\n",
       "      <td>1669912393616</td>\n",
       "      <td>0</td>\n",
       "      <td>1.669912e+12</td>\n",
       "      <td>1172.0</td>\n",
       "    </tr>\n",
       "    <tr>\n",
       "      <th>...</th>\n",
       "      <td>...</td>\n",
       "      <td>...</td>\n",
       "      <td>...</td>\n",
       "      <td>...</td>\n",
       "      <td>...</td>\n",
       "    </tr>\n",
       "    <tr>\n",
       "      <th>115</th>\n",
       "      <td>115</td>\n",
       "      <td>1669912425239</td>\n",
       "      <td>32</td>\n",
       "      <td>NaN</td>\n",
       "      <td>NaN</td>\n",
       "    </tr>\n",
       "    <tr>\n",
       "      <th>116</th>\n",
       "      <td>116</td>\n",
       "      <td>1669912425340</td>\n",
       "      <td>32</td>\n",
       "      <td>NaN</td>\n",
       "      <td>NaN</td>\n",
       "    </tr>\n",
       "    <tr>\n",
       "      <th>117</th>\n",
       "      <td>117</td>\n",
       "      <td>1669912425441</td>\n",
       "      <td>32</td>\n",
       "      <td>NaN</td>\n",
       "      <td>NaN</td>\n",
       "    </tr>\n",
       "    <tr>\n",
       "      <th>118</th>\n",
       "      <td>118</td>\n",
       "      <td>1669912425542</td>\n",
       "      <td>32</td>\n",
       "      <td>NaN</td>\n",
       "      <td>NaN</td>\n",
       "    </tr>\n",
       "    <tr>\n",
       "      <th>119</th>\n",
       "      <td>119</td>\n",
       "      <td>1669912425643</td>\n",
       "      <td>32</td>\n",
       "      <td>NaN</td>\n",
       "      <td>NaN</td>\n",
       "    </tr>\n",
       "  </tbody>\n",
       "</table>\n",
       "<p>120 rows × 5 columns</p>\n",
       "</div>"
      ],
      "text/plain": [
       "     packet_id      sent_time  second  received_time   delay\n",
       "0            0  1669912392686       0            NaN     NaN\n",
       "1            1  1669912392791       0            NaN     NaN\n",
       "2            2  1669912392894       0            NaN     NaN\n",
       "3            3  1669912392997       0   1.669912e+12   899.0\n",
       "4            4  1669912393616       0   1.669912e+12  1172.0\n",
       "..         ...            ...     ...            ...     ...\n",
       "115        115  1669912425239      32            NaN     NaN\n",
       "116        116  1669912425340      32            NaN     NaN\n",
       "117        117  1669912425441      32            NaN     NaN\n",
       "118        118  1669912425542      32            NaN     NaN\n",
       "119        119  1669912425643      32            NaN     NaN\n",
       "\n",
       "[120 rows x 5 columns]"
      ]
     },
     "execution_count": 7,
     "metadata": {},
     "output_type": "execute_result"
    }
   ],
   "source": [
    "df1 = get_processed_df(1, 10)\n",
    "df1"
   ]
  },
  {
   "cell_type": "code",
   "execution_count": 9,
   "metadata": {},
   "outputs": [
    {
     "name": "stdout",
     "output_type": "stream",
     "text": [
      "Total sent packets: 120\n",
      "Total received packets: 32\n",
      "Total lost packets: 88\n",
      "Total lost packets percentage: 73.33333333333333%\n",
      "Average delay: 2627.09375 ms\n"
     ]
    }
   ],
   "source": [
    "get_stats_values(df1)"
   ]
  },
  {
   "cell_type": "code",
   "execution_count": 12,
   "metadata": {},
   "outputs": [
    {
     "name": "stdout",
     "output_type": "stream",
     "text": [
      "Display stats for run 1\n",
      "Total sent packets: 120\n",
      "Total received packets: 32\n",
      "Total lost packets: 88\n",
      "Total lost packets percentage: 73.33333333333333%\n",
      "Average delay: 2627.09375 ms\n",
      "-------------------------\n",
      "Display stats for run 2\n",
      "Total sent packets: 120\n",
      "Total received packets: 32\n",
      "Total lost packets: 88\n",
      "Total lost packets percentage: 73.33333333333333%\n",
      "Average delay: 2655.84375 ms\n",
      "-------------------------\n",
      "Display stats for run 3\n",
      "Total sent packets: 120\n",
      "Total received packets: 32\n",
      "Total lost packets: 88\n",
      "Total lost packets percentage: 73.33333333333333%\n",
      "Average delay: 2646.8125 ms\n",
      "-------------------------\n",
      "Display stats for run 4\n",
      "Total sent packets: 120\n",
      "Total received packets: 32\n",
      "Total lost packets: 88\n",
      "Total lost packets percentage: 73.33333333333333%\n",
      "Average delay: 2607.9375 ms\n",
      "-------------------------\n",
      "Display stats for run 5\n",
      "Total sent packets: 120\n",
      "Total received packets: 32\n",
      "Total lost packets: 88\n",
      "Total lost packets percentage: 73.33333333333333%\n",
      "Average delay: 2652.9375 ms\n",
      "-------------------------\n"
     ]
    }
   ],
   "source": [
    "second_received_packets_lists = []\n",
    "for i in range(1, 6):\n",
    "    df = get_processed_df(i, 10)\n",
    "    print(f\"Display stats for run {i}\")\n",
    "    get_stats_values(df)\n",
    "    print(\"-------------------------\")\n",
    "    second_received_packets_list = []\n",
    "    for second in range(df['second'].max() + 1):\n",
    "        second_df = df[df['second'] == second]\n",
    "        second_received_packets = second_df[second_df['received_time'].notnull()].shape[0]\n",
    "        second_received_packets_list.append(second_received_packets)\n",
    "    second_received_packets_lists.append(second_received_packets_list)\n",
    "    "
   ]
  },
  {
   "cell_type": "code",
   "execution_count": 137,
   "metadata": {},
   "outputs": [
    {
     "name": "stdout",
     "output_type": "stream",
     "text": [
      "Max second count: 36\n"
     ]
    },
    {
     "data": {
      "image/png": "[encoded data removed]",
      "text/plain": [
       "<Figure size 432x288 with 1 Axes>"
      ]
     },
     "metadata": {
      "needs_background": "light"
     },
     "output_type": "display_data"
    }
   ],
   "source": [
    "# second_received_packets_lists is a list of list, we want to calculate the max second count\n",
    "max_second_count = 0\n",
    "for second_received_packets_list in second_received_packets_lists:\n",
    "    if len(second_received_packets_list) > max_second_count:\n",
    "        max_second_count = len(second_received_packets_list)\n",
    "        \n",
    "print(f\"Max second count: {max_second_count}\")\n",
    "# create a list of size max_second_count, and each element is average of the same second in every list\n",
    "average_second_received_packets_list_10MB = []\n",
    "for i in range(max_second_count):\n",
    "    total_received_packets = 0\n",
    "    for second_received_packets_list in second_received_packets_lists:\n",
    "        if i < len(second_received_packets_list):\n",
    "            total_received_packets += second_received_packets_list[i]\n",
    "    average_second_received_packets_list_10MB.append(total_received_packets / len(second_received_packets_lists))\n",
    "\n",
    "# plot the average line chart\n",
    "plt.plot(average_second_received_packets_list_10MB)\n",
    "plt.xlabel('seconds')\n",
    "plt.ylabel('received packets')\n",
    "plt.title('Average received packets per second for 10M data')\n",
    "plt.show()"
   ]
  },
  {
   "cell_type": "code",
   "execution_count": 13,
   "metadata": {},
   "outputs": [
    {
     "name": "stdout",
     "output_type": "stream",
     "text": [
      "Display stats for run 1\n",
      "Total sent packets: 120\n",
      "Total received packets: 88\n",
      "Total lost packets: 32\n",
      "Total lost packets percentage: 26.666666666666668%\n",
      "Average delay: 931.4204545454545 ms\n",
      "-------------------------\n",
      "Display stats for run 2\n",
      "Total sent packets: 120\n",
      "Total received packets: 99\n",
      "Total lost packets: 21\n",
      "Total lost packets percentage: 17.5%\n",
      "Average delay: 955.3636363636364 ms\n",
      "-------------------------\n",
      "Display stats for run 3\n",
      "Total sent packets: 120\n",
      "Total received packets: 93\n",
      "Total lost packets: 27\n",
      "Total lost packets percentage: 22.5%\n",
      "Average delay: 940.6666666666666 ms\n",
      "-------------------------\n",
      "Display stats for run 4\n",
      "Total sent packets: 120\n",
      "Total received packets: 94\n",
      "Total lost packets: 26\n",
      "Total lost packets percentage: 21.666666666666668%\n",
      "Average delay: 962.031914893617 ms\n",
      "-------------------------\n",
      "Display stats for run 5\n",
      "Total sent packets: 120\n",
      "Total received packets: 90\n",
      "Total lost packets: 30\n",
      "Total lost packets percentage: 25.0%\n",
      "Average delay: 931.2333333333333 ms\n",
      "-------------------------\n"
     ]
    }
   ],
   "source": [
    "second_received_packets_lists = []\n",
    "for i in range(1, 6):\n",
    "    df = get_processed_df(i, 100)\n",
    "    print(f\"Display stats for run {i}\")\n",
    "    get_stats_values(df)\n",
    "    print(\"-------------------------\")\n",
    "    second_received_packets_list = []\n",
    "    for second in range(df['second'].max() + 1):\n",
    "        second_df = df[df['second'] == second]\n",
    "        second_received_packets = second_df[second_df['received_time'].notnull()].shape[0]\n",
    "        second_received_packets_list.append(second_received_packets)\n",
    "    second_received_packets_lists.append(second_received_packets_list)\n",
    "    "
   ]
  },
  {
   "cell_type": "code",
   "execution_count": 139,
   "metadata": {},
   "outputs": [
    {
     "name": "stdout",
     "output_type": "stream",
     "text": [
      "Max second count: 27\n"
     ]
    },
    {
     "data": {
      "image/png": "[encoded data removed]",
      "text/plain": [
       "<Figure size 432x288 with 1 Axes>"
      ]
     },
     "metadata": {
      "needs_background": "light"
     },
     "output_type": "display_data"
    }
   ],
   "source": [
    "# second_received_packets_lists is a list of list, we want to calculate the max second count\n",
    "max_second_count = 0\n",
    "for second_received_packets_list in second_received_packets_lists:\n",
    "    if len(second_received_packets_list) > max_second_count:\n",
    "        max_second_count = len(second_received_packets_list)\n",
    "        \n",
    "print(f\"Max second count: {max_second_count}\")\n",
    "# create a list of size max_second_count, and each element is average of the same second in every list\n",
    "average_second_received_packets_list_100MB = []\n",
    "for i in range(max_second_count):\n",
    "    total_received_packets = 0\n",
    "    for second_received_packets_list in second_received_packets_lists:\n",
    "        if i < len(second_received_packets_list):\n",
    "            total_received_packets += second_received_packets_list[i]\n",
    "    average_second_received_packets_list_100MB.append(total_received_packets / len(second_received_packets_lists))\n",
    "\n",
    "# plot the average line chart\n",
    "plt.plot(average_second_received_packets_list_100MB)\n",
    "plt.xlabel('seconds')\n",
    "plt.ylabel('received packets')\n",
    "plt.title('Average received packets per second for 100M data')\n",
    "plt.show()"
   ]
  },
  {
   "cell_type": "code",
   "execution_count": 140,
   "metadata": {},
   "outputs": [
    {
     "data": {
      "image/png": "[encoded data removed]",
      "text/plain": [
       "<Figure size 432x288 with 1 Axes>"
      ]
     },
     "metadata": {
      "needs_background": "light"
     },
     "output_type": "display_data"
    }
   ],
   "source": [
    "# plot the average line chart for 10M and 100M in the same chart for comparison\n",
    "plt.plot(average_second_received_packets_list_10MB, label='10M')\n",
    "plt.plot(average_second_received_packets_list_100MB, label='100M')\n",
    "plt.xlabel('seconds')\n",
    "plt.ylabel('received packets')\n",
    "plt.title('Average received packets per second for 10M and 100M data')\n",
    "plt.legend()\n",
    "plt.show()"
   ]
  },
  {
   "cell_type": "code",
   "execution_count": null,
   "metadata": {},
   "outputs": [],
   "source": []
  },
  {
   "cell_type": "code",
   "execution_count": null,
   "metadata": {},
   "outputs": [],
   "source": [
    "second_received_packets_lists = []\n",
    "for i in range(1, 6):\n",
    "    df = get_processed_df(i, 100)\n",
    "    print(f\"Display stats for run {i}\")\n",
    "    get_stats_values(df)\n",
    "    print(\"-------------------------\")\n",
    "    second_received_packets_list = []\n",
    "    for second in range(df['second'].max() + 1):\n",
    "        second_df = df[df['second'] == second]\n",
    "        second_received_packets = second_df[second_df['received_time'].notnull()].shape[0]\n",
    "        second_received_packets_list.append(second_received_packets)\n",
    "    second_received_packets_lists.append(second_received_packets_list)\n",
    "    "
   ]
  },
  {
   "cell_type": "code",
   "execution_count": 16,
   "metadata": {},
   "outputs": [
    {
     "name": "stdout",
     "output_type": "stream",
     "text": [
      "Display stats for run 3\n",
      "Total sent packets: 5000\n",
      "Total received packets: 460\n",
      "Total lost packets: 4540\n",
      "Total lost packets percentage: 90.8%\n",
      "Average delay: 125.4304347826087 ms\n",
      "-------------------------\n",
      "Display stats for run 5\n",
      "Total sent packets: 10000\n",
      "Total received packets: 134\n",
      "Total lost packets: 9866\n",
      "Total lost packets percentage: 98.66%\n",
      "Average delay: 354.8059701492537 ms\n",
      "-------------------------\n",
      "Display stats for run 10\n",
      "Total sent packets: 5000\n",
      "Total received packets: 21\n",
      "Total lost packets: 4979\n",
      "Total lost packets percentage: 99.58%\n",
      "Average delay: 1953.095238095238 ms\n",
      "-------------------------\n",
      "Display stats for run 20\n",
      "Total sent packets: 10000\n",
      "Total received packets: 2\n",
      "Total lost packets: 9998\n",
      "Total lost packets percentage: 99.98%\n",
      "Average delay: 14570.5 ms\n",
      "-------------------------\n"
     ]
    },
    {
     "ename": "KeyError",
     "evalue": "'packet_id'",
     "output_type": "error",
     "traceback": [
      "\u001b[1;31m---------------------------------------------------------------------------\u001b[0m",
      "\u001b[1;31mKeyError\u001b[0m                                  Traceback (most recent call last)",
      "File \u001b[1;32mc:\\Users\\user\\Anaconda3\\envs\\python39\\lib\\site-packages\\pandas\\core\\indexes\\base.py:3621\u001b[0m, in \u001b[0;36mIndex.get_loc\u001b[1;34m(self, key, method, tolerance)\u001b[0m\n\u001b[0;32m   3620\u001b[0m \u001b[39mtry\u001b[39;00m:\n\u001b[1;32m-> 3621\u001b[0m     \u001b[39mreturn\u001b[39;00m \u001b[39mself\u001b[39;49m\u001b[39m.\u001b[39;49m_engine\u001b[39m.\u001b[39;49mget_loc(casted_key)\n\u001b[0;32m   3622\u001b[0m \u001b[39mexcept\u001b[39;00m \u001b[39mKeyError\u001b[39;00m \u001b[39mas\u001b[39;00m err:\n",
      "File \u001b[1;32mc:\\Users\\user\\Anaconda3\\envs\\python39\\lib\\site-packages\\pandas\\_libs\\index.pyx:136\u001b[0m, in \u001b[0;36mpandas._libs.index.IndexEngine.get_loc\u001b[1;34m()\u001b[0m\n",
      "File \u001b[1;32mc:\\Users\\user\\Anaconda3\\envs\\python39\\lib\\site-packages\\pandas\\_libs\\index.pyx:163\u001b[0m, in \u001b[0;36mpandas._libs.index.IndexEngine.get_loc\u001b[1;34m()\u001b[0m\n",
      "File \u001b[1;32mpandas\\_libs\\hashtable_class_helper.pxi:5198\u001b[0m, in \u001b[0;36mpandas._libs.hashtable.PyObjectHashTable.get_item\u001b[1;34m()\u001b[0m\n",
      "File \u001b[1;32mpandas\\_libs\\hashtable_class_helper.pxi:5206\u001b[0m, in \u001b[0;36mpandas._libs.hashtable.PyObjectHashTable.get_item\u001b[1;34m()\u001b[0m\n",
      "\u001b[1;31mKeyError\u001b[0m: 'packet_id'",
      "\nThe above exception was the direct cause of the following exception:\n",
      "\u001b[1;31mKeyError\u001b[0m                                  Traceback (most recent call last)",
      "\u001b[1;32mc:\\Users\\user\\Documents\\GitHub\\zenoh-on-inet-emulation\\zenoh-measurement\\data_analysis.ipynb 儲存格 13\u001b[0m in \u001b[0;36m<cell line: 2>\u001b[1;34m()\u001b[0m\n\u001b[0;32m      <a href='vscode-notebook-cell:/c%3A/Users/user/Documents/GitHub/zenoh-on-inet-emulation/zenoh-measurement/data_analysis.ipynb#X16sZmlsZQ%3D%3D?line=0'>1</a>\u001b[0m second_received_packets_lists \u001b[39m=\u001b[39m []\n\u001b[0;32m      <a href='vscode-notebook-cell:/c%3A/Users/user/Documents/GitHub/zenoh-on-inet-emulation/zenoh-measurement/data_analysis.ipynb#X16sZmlsZQ%3D%3D?line=1'>2</a>\u001b[0m \u001b[39mfor\u001b[39;00m i \u001b[39min\u001b[39;00m [\u001b[39m3\u001b[39m, \u001b[39m5\u001b[39m, \u001b[39m10\u001b[39m, \u001b[39m20\u001b[39m, \u001b[39m50\u001b[39m]:\n\u001b[1;32m----> <a href='vscode-notebook-cell:/c%3A/Users/user/Documents/GitHub/zenoh-on-inet-emulation/zenoh-measurement/data_analysis.ipynb#X16sZmlsZQ%3D%3D?line=2'>3</a>\u001b[0m     df \u001b[39m=\u001b[39m get_processed_df(use_drop\u001b[39m=\u001b[39;49m\u001b[39mTrue\u001b[39;49;00m, drop_percent\u001b[39m=\u001b[39;49mi)\n\u001b[0;32m      <a href='vscode-notebook-cell:/c%3A/Users/user/Documents/GitHub/zenoh-on-inet-emulation/zenoh-measurement/data_analysis.ipynb#X16sZmlsZQ%3D%3D?line=3'>4</a>\u001b[0m     \u001b[39mprint\u001b[39m(\u001b[39mf\u001b[39m\u001b[39m\"\u001b[39m\u001b[39mDisplay stats for run \u001b[39m\u001b[39m{\u001b[39;00mi\u001b[39m}\u001b[39;00m\u001b[39m\"\u001b[39m)\n\u001b[0;32m      <a href='vscode-notebook-cell:/c%3A/Users/user/Documents/GitHub/zenoh-on-inet-emulation/zenoh-measurement/data_analysis.ipynb#X16sZmlsZQ%3D%3D?line=4'>5</a>\u001b[0m     get_stats_values(df)\n",
      "\u001b[1;32mc:\\Users\\user\\Documents\\GitHub\\zenoh-on-inet-emulation\\zenoh-measurement\\data_analysis.ipynb 儲存格 13\u001b[0m in \u001b[0;36mget_processed_df\u001b[1;34m(use_drop, drop_percent, run_id, Mbps)\u001b[0m\n\u001b[0;32m     <a href='vscode-notebook-cell:/c%3A/Users/user/Documents/GitHub/zenoh-on-inet-emulation/zenoh-measurement/data_analysis.ipynb#X16sZmlsZQ%3D%3D?line=17'>18</a>\u001b[0m sent_df[\u001b[39m'\u001b[39m\u001b[39msecond\u001b[39m\u001b[39m'\u001b[39m] \u001b[39m=\u001b[39m sent_df[\u001b[39m'\u001b[39m\u001b[39msecond\u001b[39m\u001b[39m'\u001b[39m]\u001b[39m.\u001b[39mapply(\u001b[39mlambda\u001b[39;00m x: math\u001b[39m.\u001b[39mfloor(x))\n\u001b[0;32m     <a href='vscode-notebook-cell:/c%3A/Users/user/Documents/GitHub/zenoh-on-inet-emulation/zenoh-measurement/data_analysis.ipynb#X16sZmlsZQ%3D%3D?line=18'>19</a>\u001b[0m sent_df[\u001b[39m'\u001b[39m\u001b[39mpacket_id\u001b[39m\u001b[39m'\u001b[39m] \u001b[39m=\u001b[39m sent_df[\u001b[39m'\u001b[39m\u001b[39mpacket_id\u001b[39m\u001b[39m'\u001b[39m]\u001b[39m.\u001b[39mastype(\u001b[39mint\u001b[39m)\n\u001b[1;32m---> <a href='vscode-notebook-cell:/c%3A/Users/user/Documents/GitHub/zenoh-on-inet-emulation/zenoh-measurement/data_analysis.ipynb#X16sZmlsZQ%3D%3D?line=19'>20</a>\u001b[0m received_df[\u001b[39m'\u001b[39m\u001b[39mpacket_id\u001b[39m\u001b[39m'\u001b[39m] \u001b[39m=\u001b[39m received_df[\u001b[39m'\u001b[39;49m\u001b[39mpacket_id\u001b[39;49m\u001b[39m'\u001b[39;49m]\u001b[39m.\u001b[39mastype(\u001b[39mint\u001b[39m)\n\u001b[0;32m     <a href='vscode-notebook-cell:/c%3A/Users/user/Documents/GitHub/zenoh-on-inet-emulation/zenoh-measurement/data_analysis.ipynb#X16sZmlsZQ%3D%3D?line=20'>21</a>\u001b[0m sent_received \u001b[39m=\u001b[39m pd\u001b[39m.\u001b[39mmerge(sent_df, received_df, how\u001b[39m=\u001b[39m\u001b[39m'\u001b[39m\u001b[39mleft\u001b[39m\u001b[39m'\u001b[39m, left_on\u001b[39m=\u001b[39m\u001b[39m'\u001b[39m\u001b[39mpacket_id\u001b[39m\u001b[39m'\u001b[39m, right_on\u001b[39m=\u001b[39m\u001b[39m'\u001b[39m\u001b[39mpacket_id\u001b[39m\u001b[39m'\u001b[39m)\n\u001b[0;32m     <a href='vscode-notebook-cell:/c%3A/Users/user/Documents/GitHub/zenoh-on-inet-emulation/zenoh-measurement/data_analysis.ipynb#X16sZmlsZQ%3D%3D?line=21'>22</a>\u001b[0m sent_received[\u001b[39m'\u001b[39m\u001b[39mdelay\u001b[39m\u001b[39m'\u001b[39m] \u001b[39m=\u001b[39m sent_received[\u001b[39m'\u001b[39m\u001b[39mreceived_time\u001b[39m\u001b[39m'\u001b[39m] \u001b[39m-\u001b[39m sent_received[\u001b[39m'\u001b[39m\u001b[39msent_time\u001b[39m\u001b[39m'\u001b[39m]\n",
      "File \u001b[1;32mc:\\Users\\user\\Anaconda3\\envs\\python39\\lib\\site-packages\\pandas\\core\\frame.py:3505\u001b[0m, in \u001b[0;36mDataFrame.__getitem__\u001b[1;34m(self, key)\u001b[0m\n\u001b[0;32m   3503\u001b[0m \u001b[39mif\u001b[39;00m \u001b[39mself\u001b[39m\u001b[39m.\u001b[39mcolumns\u001b[39m.\u001b[39mnlevels \u001b[39m>\u001b[39m \u001b[39m1\u001b[39m:\n\u001b[0;32m   3504\u001b[0m     \u001b[39mreturn\u001b[39;00m \u001b[39mself\u001b[39m\u001b[39m.\u001b[39m_getitem_multilevel(key)\n\u001b[1;32m-> 3505\u001b[0m indexer \u001b[39m=\u001b[39m \u001b[39mself\u001b[39;49m\u001b[39m.\u001b[39;49mcolumns\u001b[39m.\u001b[39;49mget_loc(key)\n\u001b[0;32m   3506\u001b[0m \u001b[39mif\u001b[39;00m is_integer(indexer):\n\u001b[0;32m   3507\u001b[0m     indexer \u001b[39m=\u001b[39m [indexer]\n",
      "File \u001b[1;32mc:\\Users\\user\\Anaconda3\\envs\\python39\\lib\\site-packages\\pandas\\core\\indexes\\base.py:3623\u001b[0m, in \u001b[0;36mIndex.get_loc\u001b[1;34m(self, key, method, tolerance)\u001b[0m\n\u001b[0;32m   3621\u001b[0m     \u001b[39mreturn\u001b[39;00m \u001b[39mself\u001b[39m\u001b[39m.\u001b[39m_engine\u001b[39m.\u001b[39mget_loc(casted_key)\n\u001b[0;32m   3622\u001b[0m \u001b[39mexcept\u001b[39;00m \u001b[39mKeyError\u001b[39;00m \u001b[39mas\u001b[39;00m err:\n\u001b[1;32m-> 3623\u001b[0m     \u001b[39mraise\u001b[39;00m \u001b[39mKeyError\u001b[39;00m(key) \u001b[39mfrom\u001b[39;00m \u001b[39merr\u001b[39;00m\n\u001b[0;32m   3624\u001b[0m \u001b[39mexcept\u001b[39;00m \u001b[39mTypeError\u001b[39;00m:\n\u001b[0;32m   3625\u001b[0m     \u001b[39m# If we have a listlike key, _check_indexing_error will raise\u001b[39;00m\n\u001b[0;32m   3626\u001b[0m     \u001b[39m#  InvalidIndexError. Otherwise we fall through and re-raise\u001b[39;00m\n\u001b[0;32m   3627\u001b[0m     \u001b[39m#  the TypeError.\u001b[39;00m\n\u001b[0;32m   3628\u001b[0m     \u001b[39mself\u001b[39m\u001b[39m.\u001b[39m_check_indexing_error(key)\n",
      "\u001b[1;31mKeyError\u001b[0m: 'packet_id'"
     ]
    }
   ],
   "source": [
    "second_received_packets_lists = []\n",
    "for i in [3, 5, 10, 20, 50]:\n",
    "    df = get_processed_df(use_drop=True, drop_percent=i)\n",
    "    print(f\"Display stats for run {i}\")\n",
    "    get_stats_values(df)\n",
    "    print(\"-------------------------\")\n",
    "    second_received_packets_list = []\n",
    "    for second in range(df['second'].max() + 1):\n",
    "        second_df = df[df['second'] == second]\n",
    "        second_received_packets = second_df[second_df['received_time'].notnull()].shape[0]\n",
    "        second_received_packets_list.append(second_received_packets)\n",
    "    second_received_packets_lists.append(second_received_packets_list)\n",
    "    "
   ]
  },
  {
   "cell_type": "code",
   "execution_count": null,
   "metadata": {},
   "outputs": [],
   "source": []
  }
 ],
 "metadata": {
  "kernelspec": {
   "display_name": "Python 3.9.12 ('python39')",
   "language": "python",
   "name": "python3"
  },
  "language_info": {
   "codemirror_mode": {
    "name": "ipython",
    "version": 3
   },
   "file_extension": ".py",
   "mimetype": "text/x-python",
   "name": "python",
   "nbconvert_exporter": "python",
   "pygments_lexer": "ipython3",
   "version": "3.9.12"
  },
  "orig_nbformat": 4,
  "vscode": {
   "interpreter": {
    "hash": "f1f0ca08df83ebe1228368c35aef2dd5bdef6efbf7330e5bb8a931893862d7fc"
   }
  }
 },
 "nbformat": 4,
 "nbformat_minor": 2
}
